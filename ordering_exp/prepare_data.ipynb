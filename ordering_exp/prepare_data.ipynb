{
 "cells": [
  {
   "cell_type": "code",
   "execution_count": 1,
   "outputs": [],
   "source": [
    "import sys\n",
    "import os\n",
    "# sys.path\n",
    "module_path = os.path.abspath(os.path.join('..'))\n",
    "if module_path not in sys.path:\n",
    "    sys.path.append(module_path)"
   ],
   "metadata": {
    "collapsed": false,
    "pycharm": {
     "name": "#%%\n",
     "is_executing": false
    }
   }
  },
  {
   "cell_type": "code",
   "execution_count": 2,
   "outputs": [],
   "source": [
    "from os.path import join\n",
    "import numpy as np\n",
    "from config import VOCAB_DIR"
   ],
   "metadata": {
    "collapsed": false,
    "pycharm": {
     "name": "#%%\n",
     "is_executing": false
    }
   }
  },
  {
   "cell_type": "code",
   "execution_count": 3,
   "outputs": [],
   "source": [
    "fnums = 'nums1-3'"
   ],
   "metadata": {
    "collapsed": false,
    "pycharm": {
     "name": "#%%\n",
     "is_executing": false
    }
   }
  },
  {
   "cell_type": "code",
   "execution_count": 4,
   "outputs": [],
   "source": [
    "nums = np.load(join(VOCAB_DIR, fnums + '.npy'))"
   ],
   "metadata": {
    "collapsed": false,
    "pycharm": {
     "name": "#%%\n",
     "is_executing": false
    }
   }
  },
  {
   "cell_type": "code",
   "execution_count": 5,
   "outputs": [],
   "source": [
    "from ordering_exp.helper.utils import prepare_ord_k"
   ],
   "metadata": {
    "collapsed": false,
    "pycharm": {
     "name": "#%%\n",
     "is_executing": false
    }
   }
  },
  {
   "cell_type": "code",
   "execution_count": 6,
   "outputs": [
    {
     "name": "stdout",
     "text": [
      "number of ord_k tests: 1955\n"
     ],
     "output_type": "stream"
    },
    {
     "data": {
      "text/plain": "array([[['-2', '-1'],\n        ['-2', '0'],\n        ['-2', '1'],\n        ...,\n        ['-2', '96'],\n        ['-2', '97'],\n        ['-2', '98']],\n\n       [['-1', '0'],\n        ['-1', '1'],\n        ['-1', '2'],\n        ...,\n        ['-1', '97'],\n        ['-1', '98'],\n        ['-1', '99']],\n\n       [['0', '1'],\n        ['0', '2'],\n        ['0', '3'],\n        ...,\n        ['0', '98'],\n        ['0', '99'],\n        ['0', '100']],\n\n       ...,\n\n       [['1950', '1951'],\n        ['1950', '1952'],\n        ['1950', '1953'],\n        ...,\n        ['1950', '2048'],\n        ['1950', '2049'],\n        ['1950', '2050']],\n\n       [['1951', '1952'],\n        ['1951', '1953'],\n        ['1951', '1954'],\n        ...,\n        ['1951', '2049'],\n        ['1951', '2050'],\n        ['1951', '2051']],\n\n       [['1952', '1953'],\n        ['1952', '1954'],\n        ['1952', '1955'],\n        ...,\n        ['1952', '2050'],\n        ['1952', '2051'],\n        ['1952', '2052']]], dtype=object)"
     },
     "metadata": {},
     "output_type": "execute_result",
     "execution_count": 6
    }
   ],
   "source": [
    "prepare_ord_k(fnums)"
   ],
   "metadata": {
    "collapsed": false,
    "pycharm": {
     "name": "#%%\n",
     "is_executing": false
    }
   }
  }
 ],
 "metadata": {
  "kernelspec": {
   "name": "python3",
   "language": "python",
   "display_name": "Python 3"
  },
  "language_info": {
   "codemirror_mode": {
    "name": "ipython",
    "version": 2
   },
   "file_extension": ".py",
   "mimetype": "text/x-python",
   "name": "python",
   "nbconvert_exporter": "python",
   "pygments_lexer": "ipython2",
   "version": "2.7.6"
  },
  "pycharm": {
   "stem_cell": {
    "cell_type": "raw",
    "source": [],
    "metadata": {
     "collapsed": false
    }
   }
  }
 },
 "nbformat": 4,
 "nbformat_minor": 0
}