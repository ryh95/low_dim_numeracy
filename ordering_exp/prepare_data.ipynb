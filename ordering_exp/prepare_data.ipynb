{
 "cells": [
  {
   "cell_type": "code",
   "execution_count": 1,
   "outputs": [],
   "source": [
    "import sys\n",
    "import os\n",
    "# sys.path\n",
    "module_path = os.path.abspath(os.path.join('..'))\n",
    "if module_path not in sys.path:\n",
    "    sys.path.append(module_path)"
   ],
   "metadata": {
    "collapsed": false,
    "pycharm": {
     "name": "#%%\n",
     "is_executing": false
    }
   }
  },
  {
   "cell_type": "code",
   "execution_count": 2,
   "outputs": [],
   "source": [
    "from os.path import join\n",
    "import numpy as np\n",
    "from config import VOCAB_DIR"
   ],
   "metadata": {
    "collapsed": false,
    "pycharm": {
     "name": "#%%\n",
     "is_executing": false
    }
   }
  },
  {
   "cell_type": "code",
   "execution_count": 3,
   "outputs": [],
   "source": [
    "fnums = 'nums1-3'"
   ],
   "metadata": {
    "collapsed": false,
    "pycharm": {
     "name": "#%%\n",
     "is_executing": false
    }
   }
  },
  {
   "cell_type": "code",
   "execution_count": 4,
   "outputs": [],
   "source": [
    "nums = np.load(join(VOCAB_DIR, fnums + '.npy'))"
   ],
   "metadata": {
    "collapsed": false,
    "pycharm": {
     "name": "#%%\n",
     "is_executing": false
    }
   }
  },
  {
   "cell_type": "code",
   "execution_count": 7,
   "outputs": [],
   "source": [
    "from ordering_exp.helper.utils import prepare_ord_k"
   ],
   "metadata": {
    "collapsed": false,
    "pycharm": {
     "name": "#%%\n",
     "is_executing": false
    }
   }
  },
  {
   "cell_type": "code",
   "execution_count": 8,
   "outputs": [
    {
     "name": "stdout",
     "text": [
      "number of ord_k tests: 2050\n"
     ],
     "output_type": "stream"
    },
    {
     "data": {
      "text/plain": "array([[['-2', '-1'],\n        ['-2', '0'],\n        ['-2', '1'],\n        ['-2', '2'],\n        ['-2', '3']],\n\n       [['-1', '0'],\n        ['-1', '1'],\n        ['-1', '2'],\n        ['-1', '3'],\n        ['-1', '4']],\n\n       [['0', '1'],\n        ['0', '2'],\n        ['0', '3'],\n        ['0', '4'],\n        ['0', '5']],\n\n       ...,\n\n       [['2045', '2046'],\n        ['2045', '2047'],\n        ['2045', '2048'],\n        ['2045', '2049'],\n        ['2045', '2050']],\n\n       [['2046', '2047'],\n        ['2046', '2048'],\n        ['2046', '2049'],\n        ['2046', '2050'],\n        ['2046', '2051']],\n\n       [['2047', '2048'],\n        ['2047', '2049'],\n        ['2047', '2050'],\n        ['2047', '2051'],\n        ['2047', '2052']]], dtype=object)"
     },
     "metadata": {},
     "output_type": "execute_result",
     "execution_count": 8
    }
   ],
   "source": [
    "k = 5\n",
    "prepare_ord_k(fnums,k=k)"
   ],
   "metadata": {
    "collapsed": false,
    "pycharm": {
     "name": "#%%\n",
     "is_executing": false
    }
   }
  },
  {
   "cell_type": "code",
   "execution_count": 6,
   "outputs": [],
   "source": [
    "# emb the numbers with given pre-trained embedding\n",
    "from utils import vocab2vec\n",
    "import numpy as np\n",
    "from config import EMB_DIR\n",
    "# todo: prepare number embedding\n",
    "vocab = np.load(join(VOCAB_DIR,fnums+'.npy'))\n",
    "output_dir = EMB_DIR\n",
    "fword_emb = 'word2vec-wiki'\n",
    "savefmt = ['pickle']\n",
    "output_name = fnums+'_'+fword_emb"
   ],
   "metadata": {
    "collapsed": false,
    "pycharm": {
     "name": "#%%\n",
     "is_executing": false
    }
   }
  },
  {
   "cell_type": "code",
   "execution_count": null,
   "outputs": [],
   "source": [
    "vocab2vec(vocab, output_dir, output_name, fword_emb, savefmt, type='glove', normalize=False, oov_handle='random')"
   ],
   "metadata": {
    "collapsed": false,
    "pycharm": {
     "name": "#%%\n"
    }
   }
  },
  {
   "cell_type": "code",
   "execution_count": 6,
   "outputs": [],
   "source": [
    "# emb the numbers with random embedding\n",
    "import pickle\n",
    "from config import EMB_DIR\n",
    "num_embs = np.random.randn(300,nums.size)\n",
    "num_embs_dict = {n:num_embs[:,i] for i,n in enumerate(nums)}\n",
    "with open(join(EMB_DIR,fnums+'_'+'random'+'.pkl'), 'wb') as handle:\n",
    "    pickle.dump(num_embs_dict, handle, protocol=pickle.HIGHEST_PROTOCOL)"
   ],
   "metadata": {
    "collapsed": false,
    "pycharm": {
     "name": "#%%\n",
     "is_executing": false
    }
   }
  }
 ],
 "metadata": {
  "kernelspec": {
   "name": "python3",
   "language": "python",
   "display_name": "Python 3"
  },
  "language_info": {
   "codemirror_mode": {
    "name": "ipython",
    "version": 2
   },
   "file_extension": ".py",
   "mimetype": "text/x-python",
   "name": "python",
   "nbconvert_exporter": "python",
   "pygments_lexer": "ipython2",
   "version": "2.7.6"
  },
  "pycharm": {
   "stem_cell": {
    "cell_type": "raw",
    "source": [],
    "metadata": {
     "collapsed": false
    }
   }
  }
 },
 "nbformat": 4,
 "nbformat_minor": 0
}