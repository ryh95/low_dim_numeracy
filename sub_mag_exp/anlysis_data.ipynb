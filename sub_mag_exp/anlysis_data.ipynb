{
 "cells": [
  {
   "cell_type": "code",
   "execution_count": 1,
   "metadata": {
    "collapsed": true,
    "pycharm": {
     "is_executing": false
    }
   },
   "outputs": [],
   "source": [
    "import numpy as np\n",
    "from os.path import join\n",
    "import pickle\n",
    "exp_type = 'sc-k'\n",
    "num_src = 'nums1-3'\n",
    "\n",
    "emb_types = ['word2vec-wiki', 'word2vec-giga', 'glove-wiki', 'glove-giga', 'fasttext-wiki', 'fasttext-giga','random']"
   ]
  },
  {
   "cell_type": "code",
   "execution_count": 10,
   "outputs": [],
   "source": [
    "n_repeat = 5\n",
    "res = np.zeros((n_repeat,len(emb_types),2))\n",
    "for i in range(1,n_repeat+1):\n",
    "    for j,emb_type in enumerate(emb_types):\n",
    "        res_name =  '_'.join(['res-acc',num_src, exp_type, emb_type])\n",
    "        res[i-1][j,:] = np.load(join('data',str(i),res_name+'.npy'))"
   ],
   "metadata": {
    "collapsed": false,
    "pycharm": {
     "name": "#%%\n",
     "is_executing": false
    }
   }
  },
  {
   "cell_type": "code",
   "execution_count": 8,
   "outputs": [],
   "source": [
    "n_repeat = 5\n",
    "res = np.zeros((n_repeat,len(emb_types),2))\n",
    "for i in range(1,n_repeat+1):\n",
    "    for j,emb_type in enumerate(emb_types):\n",
    "        f_name = '_'.join(['res-exp',num_src, exp_type, emb_type])+'.pkl'\n",
    "        with open(join('data',str(i),f_name),'rb') as f:\n",
    "            acc = pickle.load(f)\n",
    "            res[i-1][j,0] = acc['orig_test_res']\n",
    "            res[i-1][j,1] = acc['test_res']"
   ],
   "metadata": {
    "collapsed": false,
    "pycharm": {
     "name": "#%%\n",
     "is_executing": false
    }
   }
  },
  {
   "cell_type": "code",
   "execution_count": 9,
   "outputs": [
    {
     "data": {
      "text/plain": "array([[18.3 , 25.11],\n       [ 7.98, 11.34],\n       [35.96, 48.03],\n       [13.09, 20.83],\n       [22.38, 32.02],\n       [11.44, 14.74],\n       [ 0.1 ,  0.39]])"
     },
     "metadata": {},
     "output_type": "execute_result",
     "execution_count": 9
    }
   ],
   "source": [
    "np.round(res.mean(axis=0) * 100, decimals=2)"
   ],
   "metadata": {
    "collapsed": false,
    "pycharm": {
     "name": "#%%\n",
     "is_executing": false
    }
   }
  },
  {
   "cell_type": "code",
   "execution_count": 10,
   "outputs": [
    {
     "data": {
      "text/plain": "array([[1.07, 2.47],\n       [1.12, 1.65],\n       [1.55, 1.84],\n       [2.25, 1.5 ],\n       [1.48, 1.24],\n       [1.79, 3.15],\n       [0.12, 0.19]])"
     },
     "metadata": {},
     "output_type": "execute_result",
     "execution_count": 10
    }
   ],
   "source": [
    "np.round(res.std(axis=0) * 100, decimals=2)"
   ],
   "metadata": {
    "collapsed": false,
    "pycharm": {
     "name": "#%%\n",
     "is_executing": false
    }
   }
  },
  {
   "cell_type": "code",
   "execution_count": 17,
   "outputs": [],
   "source": [
    "import skopt"
   ],
   "metadata": {
    "collapsed": false,
    "pycharm": {
     "name": "#%%\n",
     "is_executing": false
    }
   }
  },
  {
   "cell_type": "code",
   "execution_count": 18,
   "outputs": [],
   "source": [
    "n_repeat = 5\n",
    "dim = np.zeros((n_repeat,len(emb_types)))\n",
    "for i in range(1,n_repeat+1):\n",
    "    for j,emb_type in enumerate(emb_types):\n",
    "        res_name =  '_'.join(['res-hyp',num_src, exp_type, emb_type])\n",
    "        hyp = skopt.load(join('data',str(i),res_name+'.pkl'))\n",
    "        dim[i-1][j] = hyp.x[1]"
   ],
   "metadata": {
    "collapsed": false,
    "pycharm": {
     "name": "#%%\n",
     "is_executing": false
    }
   }
  },
  {
   "cell_type": "code",
   "execution_count": 20,
   "outputs": [
    {
     "data": {
      "text/plain": "array([154., 152., 186., 166., 166., 153., 103.])"
     },
     "metadata": {},
     "output_type": "execute_result",
     "execution_count": 20
    }
   ],
   "source": [
    "np.ceil(dim.mean(axis=0))"
   ],
   "metadata": {
    "collapsed": false,
    "pycharm": {
     "name": "#%%\n",
     "is_executing": false
    }
   }
  },
  {
   "cell_type": "code",
   "execution_count": 23,
   "outputs": [
    {
     "data": {
      "text/plain": "154.0"
     },
     "metadata": {},
     "output_type": "execute_result",
     "execution_count": 23
    }
   ],
   "source": [
    "np.ceil(dim.mean())"
   ],
   "metadata": {
    "collapsed": false,
    "pycharm": {
     "name": "#%%\n",
     "is_executing": false
    }
   }
  }
 ],
 "metadata": {
  "kernelspec": {
   "display_name": "Python 3",
   "language": "python",
   "name": "python3"
  },
  "language_info": {
   "codemirror_mode": {
    "name": "ipython",
    "version": 2
   },
   "file_extension": ".py",
   "mimetype": "text/x-python",
   "name": "python",
   "nbconvert_exporter": "python",
   "pygments_lexer": "ipython2",
   "version": "2.7.6"
  },
  "pycharm": {
   "stem_cell": {
    "cell_type": "raw",
    "source": [],
    "metadata": {
     "collapsed": false
    }
   }
  }
 },
 "nbformat": 4,
 "nbformat_minor": 0
}