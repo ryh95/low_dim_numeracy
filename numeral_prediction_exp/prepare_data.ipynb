{
 "cells": [
  {
   "cell_type": "code",
   "execution_count": 1,
   "metadata": {
    "collapsed": true,
    "pycharm": {
     "is_executing": false
    }
   },
   "outputs": [
    {
     "name": "stdout",
     "text": [
      "5339723\n"
     ],
     "output_type": "stream"
    }
   ],
   "source": [
    "# count the number of documents\n",
    "n_doc = 0\n",
    "with open('enwiki_20170220.txt','r') as f:\n",
    "    for l in f:\n",
    "        if l.startswith('<doc'):\n",
    "            n_doc += 1\n",
    "print(n_doc)"
   ]
  },
  {
   "cell_type": "code",
   "execution_count": 3,
   "outputs": [],
   "source": [
    "# sample 5 document\n",
    "sample_doc,counter = [],0\n",
    "with open('enwiki_20170220.txt', 'r') as f:\n",
    "    for l in f:\n",
    "        sample_doc.append(l)\n",
    "        if l.startswith('</doc>'): counter += 1\n",
    "        if counter == 5: break"
   ],
   "metadata": {
    "collapsed": false,
    "pycharm": {
     "name": "#%%\n",
     "is_executing": false
    }
   }
  },
  {
   "cell_type": "code",
   "execution_count": 8,
   "outputs": [
    {
     "data": {
      "text/plain": "'<doc id=\"5013244\" url=\"https://en.wikipedia.org/wiki?curid=5013244\" title=\"People\\'s Liberation Organisation of Tamil Eelam\">\\nPeople\\'s Liberation Organisation of Tamil Eelam\\nThe People\\'s Liberation Organisation of Tamil Eelam (PLOTE) is a former Tamil militant group that had become a pro-government paramilitary group and political party. PLOTE\\'s political wing is known as the Democratic People\\'s Liberation Front.\\nPLOTE was founded in 1980 by an ex-surveyor Uma Maheswaran alias Mukundan, who became its general secretary. He was the chairman of the Liberation Tigers of Tamil Eelam (Tamil Tigers or LTTE) from 1977–1980. He was trained in Lebanon and later in Syria under the Palestinian nationalist organization Popular Front for the Liberation of Palestine. After a bitter rivalry with Velupillai Prabhakaran, Uma Maheswaran left the LTTE in 1980 and formed PLOTE.\\nPLOTE was active in cultivating international connections: it established links with the Popular Front for the Liberation of Palestine (PFLP) under George Habash, the Tunisian Communist Party, the Democratic and Social Movement communist party of Algeria, the Turkish Organisation for Solidarity with Palestine, the African National Congress, the Farabundo Martí National Liberation Front of El Salvador, the Sandinistas of Nicaragua, and the ruling Mauritian Militant Movement in Mauritius and Communist Party in Cuba. These links were later picked up by the LTTE.\\nIn late 1988, a coup to overthrow the Maumoon Abdul Gayoom\\'s government in Maldives with the help of mercenaries from PLOTE was foiled by India.\\nThe People\\'s Liberation Organization was reported to have been offered at least $1 million - some estimates run as high as $10 million. Officials said they were not certain whether money was the only reward the guerrillas were to get for their part in the coup. There have been suggestions that the PLOTE may have been promised one of the small Maldivian islands as a base, possibly for Arms shipments. In a recent interview, Vetrichelvan PLOTE\\'s former representative in New Delhi claims it was Athulathmudali, then Sri Lankan Prime Minister, who instigated PLOTE into such a venture on a promise of some islands.\\nOn May 19, 1982, a shootout occurred at about 9:45 p.m. at Pondy Bazaar, Mambalam, Madras between LTTE and PLOTE members. V. Prabhakaran and Raghavan (alias Sivakumar) of the LTTE, armed with revolvers, opened fire on Jotheeswaran and Mukundan (alias Uma Maheswaran) of the PLOTE. In the mid-1970s, both Prabhakaran and Uma Maheswaran were members of the LTTE. During the gunfire, Jotheeswaran sustained bullet injuries both in his right and left thighs. Mukundan was also shot at but escaped unhurt. The accused V. Prabhakaran and Sivakumar were arrested and remanded. Both of them were proclaimed offenders of the Sri Lankan government with a reward on their head of Rs. 5 lakhs each.\\nOn May 25, 1982, Uma Maheswaran was arrested near Gummidipoondi railway station. At the time of arrest, he opened fire with his revolver and another case was registered against him under the Indian Arms Act.\\nIn the meantime, on May 23, 1982 Sivaneswaran (alias Niranjan), an accomplice of Mukundan, was also arrested at Saidapet, Madras and an unlicensed revolver seized from him. All these accused remained in custody until August 5, 1982 when they were released by the orders of the court on conditional bail. The LTTE cadres including their leader V.Pirabhakaran had taken up residence at Mylapore Madras, while the leaders and members of the PLOTE had been staying at Saidapet, Madras.\\nPLOTE lost its strength and momentum gradually due to continual conflicts with the LTTE. On July 16, 1989, Uma Maheswaran was assassinated in Colombo. A PLOTE splinter group claimed responsibility, though many still suspect Indian intelligence agency (RAW) involvement.\\nCurrently it is functioning under the leadership of D. Siddarthan and is a pro-government minor political party that is alleged to cooperate with the Sri Lankan military against LTTE sympathizers. The group reportedly has around 1,500 permanent cadres in the north and east.\\nSome former members of the group also function along with the Sri Lankan Army as a para-military group in military activities against the LTTE. They have also been accused of murders against political opponents. A prominent former PLOTE and later paramilitary leader Manika Dasan was killed by the LTTE in a claymore bomb attack in the town of Vavuniya.\\nAnother paramilitary leader from the Batticlao region, Plote Mohan, was killed by LTTE assassins in Colombo in 2004.\\n</doc>\\n<doc id=\"5013264\" url=\"https://en.wikipedia.org/wiki?curid=5013264\" title=\"Rose Muralikrishnan\">\\nRose Muralikrishnan\\nRose Muralikrishnan is a Carnatic Music singer.\\nRose was born in Chennai, India. Her father was a lawyer and her mother was a teacher. After completing her secondary education, Rose received a Bachelor\\'s degree in South Indian Music Performance and Theory from Queen Mary\\'s College in Chennai. She then received a Master\\'s degree in Carnatic Music from the University of Madras. She had her initial training under Guru Anadavalli, and advanced training under the guidance of Suguna Varadhachari, Dr. N. Ramanathan, Culcutta Krishnamurthy, and also received an advanced performance techniques and training from Dr. M. L. Vasanthakumari.\\nRose has performed numerous concerts around the world. She has performed in the major Music festivals such as the Music Academy of the West, the Center for Jazz and World Music Festival, CSU San Marcos International Music Festival, UCSB\\'s Day of Music. She has also performed in many prestigious theaters such as UCLA\\'s Schonberg Hall, SDSU\\'s Montezuma and Smith recital Hall, UCSD\\'s Mandeville Theater USC\\'s Annenberg Auditorium, UCLB\\'s Carpenter\\'s Performing Arts Theater, UCSB, and the Salk Institute of San Diego. She served the community through music performances and lectures demonstrations to promote Indian music and culture in the United States. Her community services also include educating South Asian as well as non-music major students and other members of the community through lectures and performances in venues such as Palomar College, CAL Poly Pomona colleges, UCLA, USC and several high schools, community colleges and temples.\\nRose was an adjunct professor of South Indian Music at the San Diego State University, USA in 1991. She worked as the Principal of the music school at the Santhome Communication Center, Madras, India and her performances are often broadcast on Indian Television and All India Radio. Before she joined the center she was a music instructor at the Jiddu Krishnamurthi Foundation, Rishi Valley School, Andhra Pradesh, India.\\nRose Muralikrishnan\\'s production entitled \"Gayaka Vadhya Brundham\" was first presented in the United States at the Carpenter Performing Arts Center in June 1996, reviving the 2000-year-old traditional art called \"Vadhya Brundham\" (Orchestral music) of India. While she was a principal of the Music school at Santhome Communication Center she composed, directed, conducted and sang for music, dance drama and audio visual productions with several leading performers such as Dr. M. Balamuralikrishna and Sudha Raghunathan. She composed music for several dance drama productions and worked with famous Nattuvanars such as Udupi Lakshminarayana, Adayar Lakshmanan and Dhananjayans.\\nRose Muralikrishnan is working along with N. Muralikrishnan, and Amrithavarshini to develop \"Spring Nectar Academy\", for teaching South Asian Fine Arts, Language Arts and Theater Arts. Part of this academy\\'s approach is the ability to transmit lessons and learning opportunities via the Internet.\\nSri Ganesha Samarpanam - Compositions of Lord Ganesha\\nSringaram - Compositions of Lord Subramanya\\n</doc>\\n<doc id=\"5013274\" url=\"https://en.wikipedia.org/wiki?curid=5013274\" title=\"Joel John Bailey\">\\nJoel John Bailey\\nJoel John Bailey (born February 17, 1980) is a forward who last played for the Carolina RailHawks of the USL First Division. He played three seasons in Major Indoor Soccer League.\\nBailey began his indoor soccer career in 2003 with the now defunct Cleveland Force of Major Indoor Soccer League. On March 29, 2005, the Force traded Bailey and Sipho Sibiya to the Baltimore Blast for Neil Gilbert and Allen Eller. During the 2005–2006 season, Bailey played twenty-nine games with the Blast and he left indoor soccer at the end of the season.\\nHe began his outdoor career with the Montreal Impact in the USL First Division in 2004 where he finished fourth in scoring and helped the Impact win the championship. In 2005, he signed a two-year contract, but was waived at the end of the 2006 season. He signed with the Vancouver Whitecaps in 2007, and was traded mid-season to the RailHawks in exchange for Sola Abolaji.\\nBailey made his debut for Trinidad and Tobago in a January 2007 CONCACAF Gold Cup qualifying match against Martinique, coming on as a substitute for Darryl Roberts. He has earned a total of 4 caps.\\nIn July 2014, Joel established the G.D.D Generation Next Academy. The Academy\\'s aim is to help young aspiring football players develop their skills. There are also integrated programs within the Academy to help players pursue both academic and professional sporting careers.\\nIn August 2015, Joel held an open Football Summer Camp at Mannie Ramjohn Stadium in Marabella, featuring foreign coaches from the prestigious Global Premier Soccer (GPS). The camp ran for one week from 3rd to the 7th August.\\nRelated to Marcus Bailey and Andrew Bailey of Grand Canyon University\\n</doc>\\n<doc id=\"5013280\" url=\"https://en.wikipedia.org/wiki?curid=5013280\" title=\"Tourism in Bosnia and Herzegovina\">\\nTourism in Bosnia and Herzegovina\\nTourism in Bosnia and Herzegovina is a fast-growing sector making up an important part in the economy of the country. The tourist business environment is constantly developing with an increasingly active tourism promotional system.\\nBosnia and Herzegovina has been a top performer in recent years in terms of tourism development; tourist arrivals have grown by an average of 24% annually from 1995 to 2000. The European region\\'s solid growth in arrivals in 2007 was due in significant part to Southern and Mediterranean Europe’s strong performance (+7%).\\nIn particular, Bosnia and Herzegovina were among the stronger players with a growth of 20%. In 2013, the World Economic Forum reported in its Travel and Tourism Competitiveness Report that Bosnia and Herzegovina was the world\\'s eighth friendliest nation towards tourists.\\nIn 2015 Bosnia and Herzegovina surpassed 1 million arrivals and had 1.029.000 tourist arrivals an increase of 21,5% and 2.143.118 overnight stays which is an 25.2% increase from 2014.\\n58,6% of the tourists came from foreign countries. According to an estimate of the World Tourism Organization, Bosnia and Herzegovina will have the third highest tourism growth rate in the world between 1995 and 2020. The major sending countries in 2012 have been Croatia (15,3%), Serbia (11,9%), Poland (7,3%), Slovenia (6,8%) and Italy (6,5%).\\nThe travel guide series, \"Lonely Planet\", has named Sarajevo as the 43rd best city in the world, and in December 2009 listed Sarajevo as one of the top ten cities to visit in 2010. With its #43 spot Sarajevo has come ahead of Dubrovnik, #59, Ljubljana at #84, Bled at #90, Zagreb at #125 and Belgrade at #143, making Sarajevo the best ranking city on the Balkan peninsula behind Athens, Greece.\\nTourism in Sarajevo is chiefly focused on historical, religious, and cultural aspects. In recent years investments has made it a popular shopping city as well, with a respectable offer in retail shopping. It hosted the 1984 Winter Olympics, which, at the time, were the largest Winter Games ever (in terms of athletes and media).\\nThe country is regaining its reputation as an excellent ski destination with its Olympic mountains such as Bjelašnica, Igman and Jahorina.\\nTourism is becoming a great contributor the Bosnian economy. As a result, Bosnia-Herzegovina now has a wide tourist industry and a fast expanding service sector thanks to the strong annual growth in tourist arrivals. The country also benefits from being both a summer and winter destination with continuity in its tourism throughout the year.\\nBeing a predominantly mountainous country Bosnia-Herzegovina provides some of the best-value ski vacations in Europe.\\nIn March 2012, Sarajevo won travel blog Foxnomad\\'s \"Best City to Visit\" competition, beating out more than one hundred cities around the entire world.\\nMore recently, the town of Visoko has experienced a staggering increase in tourist arrivals due to the alleged discovery of the Bosnian pyramids, attracting in excess of 10,000 tourists in the first weekend of June 2006.\\nMeđugorje has become one of the most popular pilgrimage sites for Catholics (and people of other faiths) in the world and has turned into Europe\\'s third most important religious place, where each year more than 1 million people visit. It has been estimated that 30 million pilgrims have come to Međugorje since the reputed apparitions began in 1981.\\nNeum on the adriatic coast has steep hills, sandy beaches, and several large tourist hotels. Prices tend to be lower than in neighboring Croatia, making it popular with shoppers. Tourism and the commerce it brings, is the leading contributor to the economy of the area. Tourism in Neum is active mostly in the coastal region. The inland area behind Neum has a rich archeological history and untouched wilderness and is starting to develop agricultural tourism.\\nVacationing in Bosnia has become popular among Gulf Arabs from Eastern Arabia.\\nThe tourist department of Bosnia and Herzegovina indicated that the most attractive benefits experienced by visitors are - 1) the spirit of the people. 2) Cities across the country are well connected with intercity busses and 3) major cities with the surrounding natural sites are easily reachable within a day.\\nSome of the tourist attractions in Bosnia and Herzegovina include:\\nProperties submitted on the Tentative List:\\nDuring the 1984 Winter Olympics, the mountains of Bjelašnica, Jahorina and Igman hosted the skiing events. These are the most popular skiing mountains in Bosnia-Herzegovina.\\nJahorina was the site of the women\\'s alpine skiing events. The men\\'s alpine events were held at Bjelašnica.\\nAt Igman The Malo Polije area hosted the ski jumping and the ski jumping part of the Nordic combined events. Meanwhile, the Veliko Polje hosted the biathlon, cross-country skiing, and the cross-country skiing part of the Nordic combined event.\\nSarajevo will be hosting the European Youth Olympic Festival in 2017 and due to this čarge investments has been made to build modern ski lift and remarkable good standards of accommodation, especially at Bjelašnica and Jahorina.\\nThe mountain Vlašić has also become a major center for winter tourism due to its excellent accommodation for skiing, snowboarding and other winter sports. It is also a popular destination for summer and eco tourism with many hiking trails and undisturbed wilderness areas.\\nThe mountain and National Park Kozara has over the past years also become a popular tourist attraction for skiing and hiking.\\nBosnia-Herzegovina is known for having various cultural sites of mixed architecture with Roman, medieval, Ottoman and Austro-Hungarian influences.\\nThe capital city Sarajevo is famous for its traditional religious diversity, with adherents of Islam, Orthodoxy, Catholicism and Judaism coexisting there for centuries. Due to this long and rich history of religious diversity, Sarajevo has often been called the \"Jerusalem of Europe\"\\nSarajevo has a strong tourist industry and was named by Lonely Planet one of the top 50 \"Best City in the World\" in 2006. Sports-related tourism uses the legacy facilities of the 1984 Winter Olympics, especially the skiing facilities on the nearby mountains of Bjelašnica, Igman, Jahorina, Trebević, and Treskavica. Sarajevo\\'s 600 years of history, influenced by both Western and Eastern empires, is also a strong tourist attraction. Sarajevo has hosted travellers for centuries, because it was an important trading center during the Ottoman and Austria-Hungarian empires. Examples of popular destinations in Sarajevo include the Vrelo Bosne park with Roman thermal springs, the Sarajevo cathedral, the Gazi Husrev-beg\\'s Mosque and old town of Sarajevo; Baščaršija. Tourism in Sarajevo is chiefly focused on historical, religious, and cultural aspects.\\nThe city is rich in museums, including the Museum of Sarajevo, the Ars Aevi Museum of Contemporary Art, Historical Museum of Bosnia and Herzegovina, The Museum of Literature and Theatre Arts of Bosnia and Herzegovina, and the National Museum of Bosnia and Herzegovina (established in 1888) home to the Sarajevo Haggadah, an illuminated manuscript and the oldest Sephardic Jewish document in the world issued in Barcelona around 1350, containing the traditional Jewish Haggadah, is held at the museum.\\nThe city also hosts the National theatre of Bosnia and Herzegovina, established in 1919, as well as the Sarajevo Youth Theatre. Other cultural institutions include the Center for Sarajevo Culture, Sarajevo City Library, Art Gallery of Bosnia and Herzegovina, and the Bosniak Institute, a privately owned library and art collection focusing on Bosniak history.\\nThe Sarajevo Film Festival, established in 1995, has become the premier film festival in the Balkans. The Sarajevo Winter Festival, Sarajevo Jazz Festival and Sarajevo International Music Festival are well-known, as is the Baščaršija Nights festival, a month-long showcase of local culture, music, and dance.\\nThe Sarajevo Film Festival has been hosted at the National Theater, with screenings at the Open-air theater Metalac and the Bosnian Cultural Center, all located in downtown Sarajevo and has hosted such world-renowned actors, directors, and musicians as: Robert De Niro, Steve Buscemi, Bono, Coolio, John Malkovich, Morgan Freeman, Nick Nolte, Daniel Craig, Willem Dafoe, Anthony Minghella, Katrin Cartlidge, Alexander Payne, Sophie Okonedo, Stephen Frears, Michael Moore, Darren Aronofsky, Mickey Rourke, Gillian Anderson, Kevin Spacey, and many other major cultural figures from the Balkans, Europe, and the Americas.\\nIn the past thirteen years, the festival has entertained people and celebrities alike, elevating it to an international level. The first incarnation of the Sarajevo Film Festival was hosted in still-warring Sarajevo in 1995, and has now progressed into being the biggest and most significant festival in South-Eastern Europe. A talent campus is also held during the duration of the festival, with numerous world-renowned lecturers speaking on behalf of world cinematography and holding workshops for film students from across South-Eastern Europe.\\nThe Sarajevo Jazz Festival has been entertaining Jazz connoisseurs for over ten years and has hosted such artists as Richard Bona, The John Butler Trio, Cristina Branco, Dhafer Youssef, and many more. The festival takes place at the Bosnian Cultural Center (aka \"Main Stage\"), just down the street from the SFF, at the Sarajevo Youth Stage Theater (aka \"Strange Fruits Stage\"), at the Dom Vojske Federacije (aka \"Solo Stage\"), and at the CDA (aka \"Groove Stage\").\\n• List of shopping malls in Sarajevo\\nMostar is an important tourist destination in Bosnia and Herzegovina. Mostar International Airport serves the city as well as the train and bus stations which connect it to a number of national and international destinations. Mostar\\'s old town is an important tourist destination with the Stari Most being its most recognizable feature.\\nPartisan Memorial Cemetery in Mostar, which is a World War II memorial, is another important city symbol and it was designed by the famous architect Bogdan Bogdanović. Its sacrosanct quality consists in the unity of nature (water and greenery) with the architectural expression of the designer; the monument was included into a list of national monuments in 2006.\\nThe \"Rondo shopping centre\", \"Biosfera Mall\", \"Orka Mall\" and the \"Mercator shopping mall\" are some of the city\\'s newer attractions. The Catholic pilgrimage site of Međugorje is also nearby as well as the Tekija Dervish Monastery in Blagaj, 13th-century town of Počitelj, Kravice waterfalls, seaside town of Neum, Stolac with its famous Stećak necropolis and the remains of an ancient Greek town of Daorson. Nearby sites also include the nature park called Hutovo Blato, Boračko Lake as well as Vjetrenica cave, the largest and most important cave in Bosnia and Herzegovina.\\nThe historic site of Počitelj is located on the left bank of the river Neretva, on the main Mostar to Metković road, and it is to the south of Mostar.\\nDuring the Middle Ages, Počitelj was considered the administrative centre and centre of governance of Dubrava župa (county), while its westernmost point gave it major strategic importance. It is believed that the fortified town along with its attendant settlements were built by Bosnia\\'s King Stjepan Tvrtko I in 1383.\\nThe walled town of Počitelj evolved in the period from the 16th to the 18th centuries. Architecturally, the stone-constructed parts of the town are a fortified complex, in which two stages of evolution are evident: mediaeval, and Ottoman.\\nBlagaj is situated at the spring of the Buna river and a historical tekke (\"tekija\" or Dervish monastery). The Blagaj Tekija was built around 1520, with elements of Ottoman architecture and Mediterranean style and is considered a national monument.\\nThe source of the Buna river (\"Vrelo Bune\") is a strong karstic spring. The Buna flows west for approximately 9 kilometres and joins the Neretva near the village Buna.\\nThe historic site of the Old Blagaj Fort (Stjepan grad), on the hill above Blagaj, was the seat of Herzegovinian nobleman, Stjepan Vukčić, and the birthplace of Bosnian queen Katarina Kosača-Kotromanić.\\nThe architectural ensemble of the Blagaj Tekke (a Sufi monastery) stands by the source of the Buna river, not far from the centre of Blagaj. The musafirhana (guest house) and türbe (mausoleum) are tucked into the natural surroundings, constituting a single entity with the cliffs, source of the Buna river and mills. The musafirhana of the Blagaj tekke and the türbe have been preserved to this day. The musafirhana was built before 1664, and rebuilt in 1851 - its original appearance is not known. The building was subsequently repaired on several occasions. The ensemble of the Blagaj Tekke was presumably built very soon after Ottoman rule was established in Herzegovina, around 1520 at the latest.\\nTrebinje which was initially a Byzantine territory governed by the Serbs. In the mid 9th century, Knez Vlastimir gave the Župania (city state) of Trebinje (\"Travunia\") to his son-in-law Krajina to govern under his suzerainty.\\nIt commanded the road from Ragusa (Dubrovnik) to Constantinople, traversed, in 1096, by Raymond of Toulouse and his crusaders. Under the name of \"Tribunia\" or \"Travunja\" (the Trebigne of the Ragusans), it belonged to the Serbian Empire until 1355. Trebinje became a part of the expanded Medieval Bosnian state under Tvrtko I in 1373. There is a medieval tower in Gornje Police (Gornye Politse) whose construction is often attributed to Vuk Branković. The old Tvrdoš Monastery dates back to the 15th century.\\nIn 1482, together with the rest of Herzegovina and the Bosnian kingdom, it was captured by the Ottoman Empire. The Old Town-Kastel was built by Turks on location of the medieval fortress of Ban Vir, on the western bank of the Trebišnjica River. The city walls, the Old Town square, and two mosques, were built in beginning of the 18th century by Resulbegović family. The Arslanagić bridge was originally built (16th century) at the village of Arslanagić, five kilometres north of the town, by Mehmed-paša Sokolović, and it was managed by Arslanagic family. It was moved closer to Trebinje (1\\xa0km) in the late 1960s. The Arslanagić bridge is one of the most attractive Turkish bridges in Bosnia and Herzegovina. It has two large and two small semicircular arches.\\nDuring the period of Austro-Hungarian administration (1878–1918), several fortifications were built on the surrounding hills, and there was a garrison based in the town. They also modernized the town expanding it westwards, building the present main street, as well as, several squares, park, new schools, tobacco plantations, etc.\\nMeđugorje. Since 1981, it has become a popular site of religious pilgrimage due to reports of apparitions of the Virgin Mary to six local Catholics.\\nFollowing reports of apparitions, successive bishops of Mostar ruled the claims groundless. In March 2010, in view of continued public interest, the Holy See announced that the Congregation for the Doctrine of the Faith was forming an investigative commission, composed of bishops, theologians, and other experts, under the leadership of Cardinal Camillo Ruini, the Pope\\'s former Vicar General for the Diocese of Rome.\\nThe region of Bosanska Krajina is known for its beautiful rivers and green landscape. The region also includes cultural cities such as Banja Luka, Prijedor, Bihać and Jajce. Old fortresses and castles such as Ostrožac Castle and Velika Kladusa Castle made by the Ottomans and later Astrian-Hungarians are known national heritage sites. The city of The Bosnian kings, the foundation of Yugoslavia and the Jajce waterfalls Jajce is an UNESCO candidate.\\nBanja Luka lies on the Vrbas river and is well known in the countries of the Former Yugoslavia for being full of tree-lined avenues, boulevards, gardens, and parks.\\nThe city is also home to the old fortress Kastel and the Ferhadija Mosque listed as a Bosnia and Herzegovina cultural heritage site in 1950. It was subsequently protected by UNESCO until its destruction in 1993. Today the site is being rebuilt and is listed as a national monument of Bosnia and Herzegovina. Other attractions of Banja Luka are the Banj Hill and a waterfall of the Vrbas river near Krupa. Rafting on the Vrbas river is currently becoming popular among the local tourists. There is fishing, rock climbing and hiking along the canyon of the Vrbas between Banja Luka and Jajce, and there is plenty of accommodation for visitors. Near Banja Luka, famous and prominent Trappist monastery, known as Mariastern Abbey, is located. The church and the monastery contains a large number of works of art and valuable cultural and historical legacy.\\nPrijedor is located on the river Sana and known for its Catholic, Orthodox Christian and Islamic heritage. Historic buildings from the Ottoman and Austrian-Hungarian periods are a feature of the urban landscape. Most known is the old Ottoman houses in the old city and the old city Mosque from the 15th century. The city underwent extensive renovation between 2006-2009.\\nWithin Prijedor municipality is also Kozara National Park that was proclaimed a protected national forest in 1967 by Josip Broz Tito. It is situated between the rivers Una, Sava, Sana and Vrbas, in BiH. These 33.75 square kilometers of dense forest and hilly meadows have earned the nickname \\'Green Beauty of Krajina\\'.\\nKozara is a popular hunting ground, with a large 180 square kilometers area of the park open to regulated hunting of deer, pheasants, foxes, boars, hares and ducks.\\nA smaller part of the park is designated for nature lovers. Walking, hiking, biking and herb picking are among the many activities in Kozara.\\nJajce was first built in the 14th century and served as the capital of the independent Bosnian kingdom during its time. The town has gates as fortifications, as well as a castle with walls which lead to the various gates around the town. Skenderbeg Mihajlović besieged Jajce in 1501, but without success because he was defeated by Ivaniš Korvin assisted by Zrinski, Frankopan, Karlović and Cubor. When the Bosnian kingdom fell to the Ottoman Empire in 1463, Jajce was taken by the Ottomans but was retaken next year by Hungarian King Matthias Corvinus. About 10–20 kilometres from the Jajce lies the Komotin Castle and town area which is older but smaller than Jajce. It is believed the town of Jajce was previously Komotin but was moved after the black death.\\nDuring this period, Bosnian queen Katarina Kosača-Kotromanić restored the Church of Saint Luke in Jajce, today the oldest church in town. Eventually, in 1527, Jajce became the last Bosnian town to fall to Ottoman rule. There are several churches and mosques built in different times during different rules, making Jajce a rather diverse town in this aspect.\\nThe Franciscan monastery of Saint Luke was completed in 1885.\\nJajce gained prominence during the Second World War because it hosted the second convention of the Anti-Fascist Council of National Liberation of Yugoslavia on November 29, 1943, a meeting that set the foundation for the Socialist Federal Republic of Yugoslavia after WWII.\\nBihać was the temporary capital of the Croatian Kingdom. It lost its civic status in the 14th century following dynastic struggles in the kingdom, and became a property of the Frankopan nobles. In the 16th century it passed under direct royal rule, when battles with the Ottoman Empire had begun. The town of Bihać, in the region of the same name, withstood the Ottoman attacks until it fell with the Bosnia sanjak (in 1592).\\nThe Bihać fort would become the westernmost fort taken by the Ottoman army over a hundred years later, in 1592 under the Bosnian vizier Hasan-pasha Predojević. The city was initially made the center of the Bihać sanjak, part of the Bosnian pashaluk. It was demoted in 1699 to become part of the sanjak of Bosnia, during the period of intense border wars between the Habsburg monarchy and the Ottoman Empire. In 1865 it became the center of its own sanjak, but this lasted only until 1878, when all of Bosnia was occupied by Austria-Hungary.\\nThe city landscape of Bihac with the beautiful Una river has old mosques, catholic churches and splendid nature surroundings.\\nNeum is the only coastal town in Bosnia and Herzegovina. It comprises 24.5\\xa0km (15\\xa0mi) of coastline and is the country\\'s only access to the Adriatic Sea.\\nNeum has steep hills, sandy beaches, and several large tourist hotels. Prices tend to be lower than in neighboring Croatia, making it popular with shoppers. Tourism and the commerce it brings, is the leading contributor to the economy of the area. Border formalities with Croatia are relaxed at peak times. Neum has over 5,000 beds for tourists, 1,810 in hotels with the remaining capacity in villas and private accommodation. Tourism in Neum is mainly active in the coastal region. The inland area behind Neum has a rich archeological history and untouched wilderness and is starting to develop agricultural tourism.\\nNational parks of Bosnia and Herzegovina\\nNature parks of Bosnia and Herzegovina\\nNumber of tourists in Bosnia and Herzegovina\\nNumber of tourists in Sarajevo\\nMost visitors arriving to Bosnia and Herzegovina on short term basis in 2015 were from the following countries of nationality:\\n</doc>\\n<doc id=\"5013282\" url=\"https://en.wikipedia.org/wiki?curid=5013282\" title=\"St. Mark Catholic High School (Ottawa)\">\\nSt. Mark Catholic High School (Ottawa)\\nOpened in 1980, St. Mark Catholic High School is located in Manotick, a neighbourhood in the city of Ottawa. Its enrollment is currently around 1100 after losing about 600 students to St. Francis Xavier Catholic High School in 2009 & 2010, after the completion of its construction in 2009. St. Francis Xavier is located just down Limebank Road, less than 10 minutes from St. Mark.\\nOriginally built in 1980 as Southern Catholic Junior High with only grades 7 and 8, St. Mark received extensions and added grades 9 through 13 over the next seven years. There are a few original faculty members who still teach at St. Mark along with many others who have long been a part of the staff. In 2005, St. Mark celebrated its 25th anniversary and past faculty and alumni were invited to attend reunion festivities.\\nEvery year since 1987, they have held their Canned Food Drive, with a one-year record of over 72,000 canned food items. With a last minute blitz on Monday, October 26, 2009, collecting over 5,000 cans, and in total about 62,000 for the 2009 edition, St. Mark surpassed the 1,000,000 can mark for the 22 years it has been held. The school has gained increasing media publicity because of the food drive.\\nIn 2006 the senior boys football team, won the National Capital Bowl, played between the champions of Ottawa, Eastern Ontario, and Central Ontario.\\nIn 2009, the Jr. varsity girls soccer team, senior boys rugby team, junior boys football team and varsity girls football team all brought home city championships. In December 2010 the Boys Varsity Hockey Team captured the non-contact Tier 1 City Championships in a best of 3 final.\\nIn 2008, the St. Mark varsity cheerleading team won the Cheer Alliance national championships in the school large senior advanced division along with the title grand champions of the school advanced division.\\n</doc>\\n'"
     },
     "metadata": {},
     "output_type": "execute_result",
     "execution_count": 8
    }
   ],
   "source": [
    "sample_doc"
   ],
   "metadata": {
    "collapsed": false,
    "pycharm": {
     "name": "#%%\n",
     "is_executing": false
    }
   }
  },
  {
   "cell_type": "code",
   "execution_count": 2,
   "outputs": [],
   "source": [
    "import math"
   ],
   "metadata": {
    "collapsed": false,
    "pycharm": {
     "name": "#%%\n",
     "is_executing": false
    }
   }
  },
  {
   "cell_type": "code",
   "execution_count": 6,
   "outputs": [
    {
     "data": {
      "text/plain": "106794"
     },
     "metadata": {},
     "output_type": "execute_result",
     "execution_count": 6
    }
   ],
   "source": [
    "# 1. split doc into 50 pieces\n",
    "# 2. each piece use stanford stanze tokenize and split sentences\n",
    "# 3. extract sentences that contain numbers and save"
   ],
   "metadata": {
    "collapsed": false,
    "pycharm": {
     "name": "#%%\n",
     "is_executing": false
    }
   }
  },
  {
   "cell_type": "code",
   "execution_count": 4,
   "outputs": [
    {
     "name": "stderr",
     "text": [
      "2020-06-29 21:22:45 INFO: Loading these models for language: en (English):\n",
      "=======================\n",
      "| Processor | Package |\n",
      "-----------------------\n",
      "| tokenize  | ewt     |\n",
      "=======================\n",
      "\n",
      "2020-06-29 21:22:45 INFO: Use device: gpu\n",
      "2020-06-29 21:22:45 INFO: Loading: tokenize\n",
      "2020-06-29 21:22:48 INFO: Done loading processors!\n"
     ],
     "output_type": "stream"
    }
   ],
   "source": [
    "import stanza\n",
    "\n",
    "nlp = stanza.Pipeline(lang='en', processors='tokenize')"
   ],
   "metadata": {
    "collapsed": false,
    "pycharm": {
     "name": "#%%\n",
     "is_executing": false
    }
   }
  },
  {
   "cell_type": "code",
   "execution_count": 5,
   "outputs": [],
   "source": [
    "# load numbers\n",
    "import numpy as np\n",
    "nums = np.load('../data/vocab/nums1-3.npy')\n",
    "set_nums = set(nums)"
   ],
   "metadata": {
    "collapsed": false,
    "pycharm": {
     "name": "#%%\n",
     "is_executing": false
    }
   }
  },
  {
   "cell_type": "code",
   "execution_count": 6,
   "outputs": [],
   "source": [
    "# n_doc_p = math.ceil(5339723/50)\n",
    "res_sens,doc_counter = [],0\n",
    "with open('enwiki_20170220.txt', 'r') as f:\n",
    "    doc_p,is_start,is_end = '',False,False\n",
    "    for l in sample_doc:\n",
    "        if l.startswith('<doc'):\n",
    "            is_head = True\n",
    "            continue\n",
    "        if is_head:\n",
    "            is_head = False\n",
    "            continue\n",
    "        if l.startswith('</doc>'):\n",
    "            is_end = True\n",
    "            doc_counter += 1\n",
    "            \n",
    "            \n",
    "        if (doc_counter % 2 == 0 and is_end == True) or doc_counter == 5:\n",
    "            doc = nlp(doc_p)\n",
    "            for sen in doc.sentences:\n",
    "                # if a target number appeared in sentence, the sentence will be collected\n",
    "                if set_nums & set([t.text for t in sen.tokens]): \n",
    "                    res_sens.append(sen)\n",
    "            doc_p = ''\n",
    "            is_end = False\n",
    "\n",
    "        if not l.startswith('</doc>'): doc_p += l"
   ],
   "metadata": {
    "collapsed": false,
    "pycharm": {
     "name": "#%%\n",
     "is_executing": false
    }
   }
  }
 ],
 "metadata": {
  "kernelspec": {
   "display_name": "Python 3",
   "language": "python",
   "name": "python3"
  },
  "language_info": {
   "codemirror_mode": {
    "name": "ipython",
    "version": 2
   },
   "file_extension": ".py",
   "mimetype": "text/x-python",
   "name": "python",
   "nbconvert_exporter": "python",
   "pygments_lexer": "ipython2",
   "version": "2.7.6"
  },
  "pycharm": {
   "stem_cell": {
    "cell_type": "raw",
    "source": [],
    "metadata": {
     "collapsed": false
    }
   }
  }
 },
 "nbformat": 4,
 "nbformat_minor": 0
}